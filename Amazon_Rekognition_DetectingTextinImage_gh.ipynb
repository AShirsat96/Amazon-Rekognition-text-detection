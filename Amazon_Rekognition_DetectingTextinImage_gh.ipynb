{
 "cells": [
  {
   "cell_type": "code",
   "execution_count": 1,
   "id": "56be1d56",
   "metadata": {},
   "outputs": [],
   "source": [
    "# Install once only - python official library from AWS\n",
    "# !pip install boto3"
   ]
  },
  {
   "cell_type": "markdown",
   "id": "307dd4a3",
   "metadata": {},
   "source": [
    "### define configuration"
   ]
  },
  {
   "cell_type": "code",
   "execution_count": 2,
   "id": "9cdee630",
   "metadata": {},
   "outputs": [],
   "source": [
    "aws_accesskey = <Your Access Key>\n",
    "aws_secretaccess = <Your secret access key>\n",
    "myregion= <your region>"
   ]
  },
  {
   "cell_type": "code",
   "execution_count": 3,
   "id": "389ca35b",
   "metadata": {},
   "outputs": [],
   "source": [
    "import boto3"
   ]
  },
  {
   "cell_type": "code",
   "execution_count": 5,
   "id": "583d71b9",
   "metadata": {},
   "outputs": [],
   "source": [
    "def DetectText_Image(aws_access,aws_secret, aws_region,bucket_name,photo_name):\n",
    "    Rekognition_client = boto3.client('rekognition',aws_access_key_id=aws_access, aws_secret_access_key=aws_secret, region_name =aws_region)\n",
    "    response = Rekognition_client.detect_text(Image={'S3Object': {'Bucket': bucket_name, 'Name': photo_name}})\n",
    "    textDetections = response['TextDetections']\n",
    "    print('Detected text\\n----------')\n",
    "    for text in textDetections:\n",
    "        print('Detected text:' + text['DetectedText'])\n",
    "        print('Confidence: ' + \"{:.2f}\".format(text['Confidence']) + \"%\")\n",
    "        print('Id: {}'.format(text['Id']))\n",
    "        if 'ParentId' in text:\n",
    "            print('Parent Id: {}'.format(text['ParentId']))\n",
    "        print('Type:' + text['Type'])\n",
    "        print()\n",
    "    return len(textDetections)"
   ]
  },
  {
   "cell_type": "code",
   "execution_count": 6,
   "id": "f2b9acf1",
   "metadata": {},
   "outputs": [
    {
     "name": "stdout",
     "output_type": "stream",
     "text": [
      "Detected text\n",
      "----------\n",
      "Detected text:ROOTS 9\n",
      "Confidence: 99.48%\n",
      "Id: 0\n",
      "Type:LINE\n",
      "\n",
      "Detected text:Welcome To\n",
      "Confidence: 99.56%\n",
      "Id: 1\n",
      "Type:LINE\n",
      "\n",
      "Detected text:Root's 9 Kitchen & Bar\n",
      "Confidence: 99.99%\n",
      "Id: 2\n",
      "Type:LINE\n",
      "\n",
      "Detected text:ROOTS\n",
      "Confidence: 99.76%\n",
      "Id: 3\n",
      "Parent Id: 0\n",
      "Type:WORD\n",
      "\n",
      "Detected text:9\n",
      "Confidence: 99.20%\n",
      "Id: 4\n",
      "Parent Id: 0\n",
      "Type:WORD\n",
      "\n",
      "Detected text:Welcome\n",
      "Confidence: 99.73%\n",
      "Id: 5\n",
      "Parent Id: 1\n",
      "Type:WORD\n",
      "\n",
      "Detected text:To\n",
      "Confidence: 99.38%\n",
      "Id: 6\n",
      "Parent Id: 1\n",
      "Type:WORD\n",
      "\n",
      "Detected text:Root's\n",
      "Confidence: 100.00%\n",
      "Id: 7\n",
      "Parent Id: 2\n",
      "Type:WORD\n",
      "\n",
      "Detected text:9\n",
      "Confidence: 100.00%\n",
      "Id: 8\n",
      "Parent Id: 2\n",
      "Type:WORD\n",
      "\n",
      "Detected text:Kitchen\n",
      "Confidence: 99.94%\n",
      "Id: 9\n",
      "Parent Id: 2\n",
      "Type:WORD\n",
      "\n",
      "Detected text:&\n",
      "Confidence: 100.00%\n",
      "Id: 10\n",
      "Parent Id: 2\n",
      "Type:WORD\n",
      "\n",
      "Detected text:Bar\n",
      "Confidence: 100.00%\n",
      "Id: 11\n",
      "Parent Id: 2\n",
      "Type:WORD\n",
      "\n"
     ]
    },
    {
     "data": {
      "text/plain": [
       "12"
      ]
     },
     "execution_count": 6,
     "metadata": {},
     "output_type": "execute_result"
    }
   ],
   "source": [
    "# Add your bucket name and also mention the name of the photo (should be in your s3 bucket)\n",
    "DetectText_Image(aws_accesskey,aws_secretaccess,myregion,<your bucket name>,'Root9_Restaurant.jpg')"
   ]
  },
  {
   "cell_type": "code",
   "execution_count": null,
   "id": "992a6afb",
   "metadata": {},
   "outputs": [],
   "source": []
  }
 ],
 "metadata": {
  "kernelspec": {
   "display_name": "Python 3",
   "language": "python",
   "name": "python3"
  },
  "language_info": {
   "codemirror_mode": {
    "name": "ipython",
    "version": 3
   },
   "file_extension": ".py",
   "mimetype": "text/x-python",
   "name": "python",
   "nbconvert_exporter": "python",
   "pygments_lexer": "ipython3",
   "version": "3.8.8"
  }
 },
 "nbformat": 4,
 "nbformat_minor": 5
}
